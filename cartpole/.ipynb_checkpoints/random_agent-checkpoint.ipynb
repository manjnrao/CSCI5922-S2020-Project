{
 "cells": [
  {
   "cell_type": "code",
   "execution_count": 2,
   "metadata": {},
   "outputs": [],
   "source": [
    "import tensorflow as tf\n",
    "import gym"
   ]
  },
  {
   "cell_type": "code",
   "execution_count": 6,
   "metadata": {},
   "outputs": [],
   "source": [
    "def randomAgent(numEpisodes, envName):\n",
    "    env = gym.make(envName)\n",
    "    totalReward = 0\n",
    "    for episode in range(numEpisodes):\n",
    "        episodeReward = 0\n",
    "        env.reset()\n",
    "        done = False\n",
    "        while not done:\n",
    "            _, reward, done, _ = env.step(env.action_space.sample())\n",
    "            episodeReward += reward\n",
    "        totalReward += episodeReward\n",
    "    env.close()\n",
    "    print(\"Average reward over {} episodes = {}\".format(numEpisodes, totalReward/numEpisodes))"
   ]
  },
  {
   "cell_type": "code",
   "execution_count": 7,
   "metadata": {},
   "outputs": [
    {
     "name": "stdout",
     "output_type": "stream",
     "text": [
      "Average reward over 100 episodes = 22.1\n"
     ]
    }
   ],
   "source": [
    "randomAgent(100, 'CartPole-v1')"
   ]
  }
 ],
 "metadata": {
  "kernelspec": {
   "display_name": "Python 3",
   "language": "python",
   "name": "python3"
  },
  "language_info": {
   "codemirror_mode": {
    "name": "ipython",
    "version": 3
   },
   "file_extension": ".py",
   "mimetype": "text/x-python",
   "name": "python",
   "nbconvert_exporter": "python",
   "pygments_lexer": "ipython3",
   "version": "3.7.6"
  }
 },
 "nbformat": 4,
 "nbformat_minor": 4
}
